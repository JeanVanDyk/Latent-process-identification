{
 "cells": [
  {
   "cell_type": "code",
   "execution_count": 1,
   "metadata": {},
   "outputs": [],
   "source": [
    "import numpy as np\n",
    "import matplotlib.pyplot as plt\n",
    "\n",
    "# Define paths to the datasets\n",
    "npz_file_path_CNRS = r\"D:\\\\Document\\\\Ressources Machine Learning\\\\Stage CROSSING\\\\autoencoder\\\\CNRS\\\\CNRS\"\n",
    "npz_file_path_SSM = r\"D:\\\\Document\\\\Ressources Machine Learning\\\\Stage CROSSING\\\\autoencoder\\\\SSM\"\n",
    "npz_file_path_hEVA = r\"D:\\\\Document\\\\Ressources Machine Learning\\\\Stage CROSSING\\\\autoencoder\\\\HumanEva\"\n",
    "\n",
    "path_output = r\"D:\\\\Document\\\\Ressources Machine Learning\\\\Stage CROSSING\\\\autoencoder\\\\data\"\n",
    "\n",
    "npz_smplx = r\"D:\\\\Document\\\\Ressources Machine Learning\\\\Stage CROSSING\\\\autoencoder\\\\smplx\\\\SMPLX_FEMALE.npz\"\n",
    "npz_file_smplx = np.load(npz_smplx, allow_pickle=True)"
   ]
  },
  {
   "cell_type": "code",
   "execution_count": 2,
   "metadata": {},
   "outputs": [],
   "source": [
    "import torch\n",
    "\n",
    "from models.body_model import BodyModel\n",
    "from utils import rodrigues_2_rot_mat\n",
    "from lbs import lbs, batch_rodrigues\n",
    "import os\n",
    "\n",
    "# Define the project root directory\n",
    "# find the path to the project root directory\n",
    "PROJECT_ROOT = os.path.abspath(os.path.join(os.getcwd(), os.pardir))\n",
    "PROJECT_ROOT = os.path.join(PROJECT_ROOT, r'D:\\\\Document\\\\Ressources Machine Learning\\\\Stage CROSSING\\\\autoencoder')\n",
    "\n",
    "# Define the path to SMPLX_MALE.npz using an absolute path\n",
    "SMPLX_MODEL_MALE_PATH = os.path.join(PROJECT_ROOT, 'smplx', 'SMPLX_MALE.npz')\n",
    "\n",
    "# The model from which will get the joints from\n",
    "class SMPLX(BodyModel):\n",
    "    def __init__(self, num_betas=16, **kwargs):\n",
    "        super().__init__(bm_fname=SMPLX_MODEL_MALE_PATH, num_betas=num_betas, num_expressions=0, **kwargs)\n",
    "\n",
    "    def forward(self, pose_body, betas, use_rodrigues=True):\n",
    "        \n",
    "        device = pose_body.device\n",
    "        for name in ['init_pose_hand', 'init_pose_jaw','init_pose_eye', 'init_v_template', 'init_expression', \n",
    "                    'shapedirs', 'exprdirs', 'posedirs', 'J_regressor', 'kintree_table', 'weights', 'f']:\n",
    "            _tensor = getattr(self, name)\n",
    "            setattr(self, name, _tensor.to(device))\n",
    "\n",
    "        batch_size = pose_body.shape[0]\n",
    "        \n",
    "        # The next line was added from the given notebook. It is in fact in the \n",
    "        # original BodyModel, but for some reason was not copied and led to errors.\n",
    "        root_orient = self.init_root_orient.expand(batch_size, -1)\n",
    "        pose_hand = self.init_pose_hand.expand(batch_size, -1)\n",
    "        pose_jaw = self.init_pose_jaw.expand(batch_size, -1)\n",
    "        pose_eye = self.init_pose_eye.expand(batch_size, -1)\n",
    "        v_template = self.init_v_template.expand(batch_size, -1, -1)\n",
    "        expression = self.init_expression.expand(batch_size, -1)\n",
    "\n",
    "        init_pose = torch.cat([pose_jaw, pose_eye, pose_hand], dim=-1) # [B, 99] full of zeros\n",
    "        if not use_rodrigues:\n",
    "            init_pose = rodrigues_2_rot_mat(init_pose) # [B, 99] -> [B, 33, 3, 3]\n",
    "        \n",
    "        \n",
    "        full_pose = torch.cat([root_orient, pose_body, init_pose], dim=-1) # No translation, concat of Pose body [B, 66] and init_pose [B, 99] = [B, 165]\n",
    "        \n",
    "        \n",
    "        shape_components = torch.cat([betas, expression], dim=-1)\n",
    "        shapedirs = torch.cat([self.shapedirs, self.exprdirs], dim=-1)\n",
    "            \n",
    "        verts, joints = lbs(betas=shape_components, pose=full_pose, v_template=v_template,\n",
    "                        shapedirs=shapedirs, posedirs=self.posedirs, J_regressor=self.J_regressor,\n",
    "                        parents=self.kintree_table[0].long(), lbs_weights=self.weights, pose2rot=use_rodrigues)\n",
    "        \n",
    "        faces = self.f.expand(batch_size, -1, -1)\n",
    "        \n",
    "        textures = torch.ones_like(verts)\n",
    "        \n",
    "        return dict(verts=verts, faces=faces, joints=joints)"
   ]
  },
  {
   "cell_type": "code",
   "execution_count": 3,
   "metadata": {},
   "outputs": [],
   "source": [
    "device = torch.device('cuda' if torch.cuda.is_available() else 'cpu')\n",
    "smplx = SMPLX().to(device)"
   ]
  },
  {
   "cell_type": "code",
   "execution_count": 41,
   "metadata": {},
   "outputs": [],
   "source": [
    "def download_data(subject, path_dataset, path_output, title, time_length_per_sample):\n",
    "\n",
    "    '''\n",
    "    This function will take as a input a directory with .npz files, will retrive from them\n",
    "    motionz of a body model represented as 24 joints over 50 time steps, and will save them\n",
    "    as tensors.\n",
    "\n",
    "    inputs :\n",
    "        - subject : name of the subject's corresponding file.\n",
    "        - path_dataset : path to the directory from which you'll want to download data.\n",
    "        - path_output : path to the directory where you'll want to save the modified data.\n",
    "        - title : what you'll want to see first in the files name.\n",
    "        - time_length_per_sample : the time_length of samples you'll want to save.\n",
    "    '''\n",
    "\n",
    "    path = os.path.join(path_dataset, str(subject))\n",
    "    for filename in os.listdir(path):\n",
    "        \n",
    "        # the dataset that'll be saved\n",
    "        dataset = []\n",
    "\n",
    "        file_path = os.path.join(path, filename)\n",
    "        npz_file = np.load(file_path, allow_pickle=True)\n",
    "\n",
    "        # Extract the data\n",
    "        data = {}\n",
    "        for key in npz_file.keys():\n",
    "            data[key] = npz_file[key]\n",
    "\n",
    "        pose_body = torch.tensor(data['pose_body'], dtype=torch.float32).to(device) # 21 joints (63 vec)\n",
    "        beta = torch.tensor(data['betas'], dtype=torch.float32).unsqueeze(0).repeat(len(pose_body), 1).to(device)\n",
    "        target = smplx(pose_body=pose_body, betas=beta, use_rodrigues=True)\n",
    "        joints = target['joints']\n",
    "        \n",
    "        # Cut the time sequence into multiple samples of time_length_per_sample size\n",
    "        time_length = joints.shape[0]\n",
    "        nb_sample = time_length // time_length_per_sample\n",
    "        for i in range(nb_sample):\n",
    "            dataset.append(joints[i:time_length_per_sample+i, :24])\n",
    "\n",
    "        # Save the dataset\n",
    "        dataset = torch.stack(dataset)\n",
    "        torch.save(dataset, os.path.join(path_output, f'{title}_{subject}_{filename}.pt'))"
   ]
  },
  {
   "cell_type": "code",
   "execution_count": 46,
   "metadata": {},
   "outputs": [],
   "source": [
    "download_data(subject='20160330_03333',\n",
    "              path_dataset=npz_file_path_SSM,\n",
    "              path_output=path_output,\n",
    "              title='SSM',\n",
    "              time_length_per_sample=50)"
   ]
  },
  {
   "cell_type": "code",
   "execution_count": 47,
   "metadata": {},
   "outputs": [
    {
     "name": "stderr",
     "output_type": "stream",
     "text": [
      "C:\\Users\\jeanv\\AppData\\Local\\Temp\\ipykernel_14672\\4131104800.py:4: FutureWarning: You are using `torch.load` with `weights_only=False` (the current default value), which uses the default pickle module implicitly. It is possible to construct malicious pickle data which will execute arbitrary code during unpickling (See https://github.com/pytorch/pytorch/blob/main/SECURITY.md#untrusted-models for more details). In a future release, the default value for `weights_only` will be flipped to `True`. This limits the functions that could be executed during unpickling. Arbitrary objects will no longer be allowed to be loaded via this mode unless they are explicitly allowlisted by the user via `torch.serialization.add_safe_globals`. We recommend you start setting `weights_only=True` for any use case where you don't have full control of the loaded file. Please open an issue on GitHub for any issues related to this experimental feature.\n",
      "  loaded_tensor = torch.load(file_path)\n"
     ]
    },
    {
     "name": "stdout",
     "output_type": "stream",
     "text": [
      "torch.Size([165, 50, 24, 3])\n"
     ]
    }
   ],
   "source": [
    "# Check the shape of all downloaded data until now\n",
    "\n",
    "dataset = []\n",
    "for filename in os.listdir(path_output):\n",
    "    file_path = os.path.join(path_output, filename)\n",
    "    loaded_tensor = torch.load(file_path)\n",
    "    dataset.append(loaded_tensor)\n",
    "\n",
    "dataset = torch.cat(dataset)\n",
    "print(dataset.shape)"
   ]
  },
  {
   "cell_type": "code",
   "execution_count": 49,
   "metadata": {},
   "outputs": [
    {
     "data": {
      "image/png": "[encoded data removed]",
      "text/plain": [
       "<Figure size 1200x600 with 1 Axes>"
      ]
     },
     "metadata": {},
     "output_type": "display_data"
    }
   ],
   "source": [
    "# Print an example\n",
    "\n",
    "real_joints24 = dataset[0,0]\n",
    "\n",
    "fig = plt.figure(figsize=(12, 6))\n",
    "ax3 = fig.add_subplot(133, projection='3d')\n",
    "\n",
    "\n",
    "ax3.scatter(real_joints24[:,0], real_joints24[:,2], real_joints24[:,1], c='b', marker='o', s=1)\n",
    "ax3.set_title(\"Real 24 joints\")\n",
    "val_min = real_joints24.min()\n",
    "val_max = real_joints24.max()\n",
    "ax3.set_xlim(val_min, val_max)\n",
    "ax3.set_ylim(val_min, val_max)\n",
    "ax3.set_zlim(val_min, val_max)\n",
    "ax3.view_init(elev=20, azim=50)"
   ]
  }
 ],
 "metadata": {
  "kernelspec": {
   "display_name": "crossing_venv",
   "language": "python",
   "name": "python3"
  },
  "language_info": {
   "codemirror_mode": {
    "name": "ipython",
    "version": 3
   },
   "file_extension": ".py",
   "mimetype": "text/x-python",
   "name": "python",
   "nbconvert_exporter": "python",
   "pygments_lexer": "ipython3",
   "version": "3.12.3"
  }
 },
 "nbformat": 4,
 "nbformat_minor": 2
}
